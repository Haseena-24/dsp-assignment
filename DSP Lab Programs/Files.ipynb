{
 "cells": [
  {
   "cell_type": "code",
   "execution_count": 9,
   "id": "09a00bc4",
   "metadata": {},
   "outputs": [],
   "source": [
    "file=open(\"f1.txt\",\"w\")\n",
    "file.write(\"a1bcdeABC*^$25D\")\n",
    "file.write(\"How are you\")\n",
    "file.close()"
   ]
  },
  {
   "cell_type": "code",
   "execution_count": null,
   "id": "53ac7cd5",
   "metadata": {},
   "outputs": [],
   "source": []
  }
 ],
 "metadata": {
  "kernelspec": {
   "display_name": "Python 3 (ipykernel)",
   "language": "python",
   "name": "python3"
  },
  "language_info": {
   "codemirror_mode": {
    "name": "ipython",
    "version": 3
   },
   "file_extension": ".py",
   "mimetype": "text/x-python",
   "name": "python",
   "nbconvert_exporter": "python",
   "pygments_lexer": "ipython3",
   "version": "3.9.12"
  }
 },
 "nbformat": 4,
 "nbformat_minor": 5
}
