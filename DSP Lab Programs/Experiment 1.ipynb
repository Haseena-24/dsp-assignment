{
 "cells": [
  {
   "cell_type": "code",
   "execution_count": 1,
   "id": "143cc12b",
   "metadata": {},
   "outputs": [
    {
     "name": "stdout",
     "output_type": "stream",
     "text": [
      "Hello World\n"
     ]
    }
   ],
   "source": [
    "a=\"Hello World\"\n",
    "print(a)"
   ]
  },
  {
   "cell_type": "code",
   "execution_count": 8,
   "id": "a471de18",
   "metadata": {},
   "outputs": [
    {
     "name": "stdout",
     "output_type": "stream",
     "text": [
      "Type of a:  <class 'int'>\n"
     ]
    }
   ],
   "source": [
    "#TYPES\n",
    "a=5\n",
    "print(\"Type of a: \", type(a))"
   ]
  },
  {
   "cell_type": "code",
   "execution_count": 4,
   "id": "dc36b517",
   "metadata": {},
   "outputs": [
    {
     "name": "stdout",
     "output_type": "stream",
     "text": [
      "type of b: <class 'float'>\n"
     ]
    }
   ],
   "source": [
    "b=3.0\n",
    "print(\"type of b:\", type(b))"
   ]
  },
  {
   "cell_type": "code",
   "execution_count": 6,
   "id": "6936f920",
   "metadata": {},
   "outputs": [
    {
     "name": "stdout",
     "output_type": "stream",
     "text": [
      "type of c: <class 'complex'>\n"
     ]
    }
   ],
   "source": [
    "c=2+3j\n",
    "print(\"type of c:\", type(c))"
   ]
  },
  {
   "cell_type": "code",
   "execution_count": 7,
   "id": "179ea1f4",
   "metadata": {},
   "outputs": [
    {
     "name": "stdout",
     "output_type": "stream",
     "text": [
      "type of a: <class 'str'>\n"
     ]
    }
   ],
   "source": [
    "a=\"Hello World\"\n",
    "print(\"type of a:\",type(a))"
   ]
  },
  {
   "cell_type": "code",
   "execution_count": 9,
   "id": "2e97aca8",
   "metadata": {},
   "outputs": [
    {
     "data": {
      "text/plain": [
       "27.5"
      ]
     },
     "execution_count": 9,
     "metadata": {},
     "output_type": "execute_result"
    }
   ],
   "source": [
    "#EXPRESSIONS\n",
    "#constant Expressions\n",
    "x=24+3.5\n",
    "x"
   ]
  },
  {
   "cell_type": "code",
   "execution_count": 14,
   "id": "834ff27c",
   "metadata": {},
   "outputs": [
    {
     "name": "stdout",
     "output_type": "stream",
     "text": [
      "40\n",
      "-20\n",
      "300\n",
      "0.3333333333333333\n"
     ]
    }
   ],
   "source": [
    "#Arithmetic Expressions\n",
    "a=10\n",
    "b=30\n",
    "\n",
    "add=a+b\n",
    "sub=a-b\n",
    "mul=a*b\n",
    "div=a/b\n",
    "\n",
    "print(add)\n",
    "print(sub)\n",
    "print(mul)\n",
    "print(div)"
   ]
  },
  {
   "cell_type": "code",
   "execution_count": 15,
   "id": "f057d9dd",
   "metadata": {},
   "outputs": [
    {
     "data": {
      "text/plain": [
       "30"
      ]
     },
     "execution_count": 15,
     "metadata": {},
     "output_type": "execute_result"
    }
   ],
   "source": [
    "#Integral Expressions\n",
    "x=20\n",
    "y=10.5\n",
    "z=x+int(y)\n",
    "z"
   ]
  },
  {
   "cell_type": "code",
   "execution_count": 16,
   "id": "4e24de43",
   "metadata": {},
   "outputs": [
    {
     "data": {
      "text/plain": [
       "2.5"
      ]
     },
     "execution_count": 16,
     "metadata": {},
     "output_type": "execute_result"
    }
   ],
   "source": [
    "#Floating Expressions\n",
    "a=15\n",
    "b=6\n",
    "c=a/b\n",
    "c"
   ]
  },
  {
   "cell_type": "code",
   "execution_count": 17,
   "id": "d0b650cf",
   "metadata": {},
   "outputs": [
    {
     "data": {
      "text/plain": [
       "True"
      ]
     },
     "execution_count": 17,
     "metadata": {},
     "output_type": "execute_result"
    }
   ],
   "source": [
    "#Relational Expressions\n",
    "a=12\n",
    "b=7\n",
    "c=9\n",
    "d=34\n",
    "e=(a+b)>=(c-d)\n",
    "e"
   ]
  },
  {
   "cell_type": "code",
   "execution_count": 20,
   "id": "c3c5af3a",
   "metadata": {},
   "outputs": [
    {
     "name": "stdout",
     "output_type": "stream",
     "text": [
      "False\n",
      "True\n",
      "True\n"
     ]
    }
   ],
   "source": [
    "#Logical Expressions\n",
    "x=(10==5)\n",
    "y=(3<9)\n",
    "\n",
    "w=x and y\n",
    "z=x or y\n",
    "r=not x\n",
    "\n",
    "print(w)\n",
    "print(z)\n",
    "print(r)"
   ]
  },
  {
   "cell_type": "code",
   "execution_count": 21,
   "id": "c37c4b0b",
   "metadata": {},
   "outputs": [
    {
     "name": "stdout",
     "output_type": "stream",
     "text": [
      "3 56\n"
     ]
    }
   ],
   "source": [
    "#Bitwise Expressions\n",
    "a=14\n",
    "x=a>>2\n",
    "y=a<<2\n",
    "print(x,y)"
   ]
  },
  {
   "cell_type": "code",
   "execution_count": 23,
   "id": "e4f05373",
   "metadata": {},
   "outputs": [
    {
     "name": "stdout",
     "output_type": "stream",
     "text": [
      "Haseena\n",
      "Keerthi\n",
      "Neeraja\n"
     ]
    }
   ],
   "source": [
    "#STRING OPERATIONS\n",
    "#string capitalize\n",
    "x=\"Haseena\"\n",
    "y=\"KEERTHI\"\n",
    "z=\"NeeRajA\"\n",
    "print(x.capitalize())\n",
    "print(y.capitalize())\n",
    "print(z.capitalize())"
   ]
  },
  {
   "cell_type": "code",
   "execution_count": 26,
   "id": "92a803cd",
   "metadata": {},
   "outputs": [
    {
     "data": {
      "text/plain": [
       "2"
      ]
     },
     "execution_count": 26,
     "metadata": {},
     "output_type": "execute_result"
    }
   ],
   "source": [
    "#string count\n",
    "string=\"Joyful life, live life happily\"\n",
    "substring=\"life\"\n",
    "x=string.count(substring)\n",
    "x"
   ]
  },
  {
   "cell_type": "code",
   "execution_count": 29,
   "id": "b3e81df6",
   "metadata": {},
   "outputs": [
    {
     "name": "stdout",
     "output_type": "stream",
     "text": [
      "True\n",
      "False\n",
      "False\n"
     ]
    }
   ],
   "source": [
    "#string isalpha()\n",
    "x=\"Harsha\"\n",
    "y=\"hasee24\"\n",
    "z=\"123456\"\n",
    "print(x.isalpha())\n",
    "print(y.isalpha())\n",
    "print(z.isalpha())"
   ]
  },
  {
   "cell_type": "code",
   "execution_count": 75,
   "id": "f40166cf",
   "metadata": {},
   "outputs": [
    {
     "name": "stdout",
     "output_type": "stream",
     "text": [
      "True\n",
      "True\n",
      "False\n"
     ]
    }
   ],
   "source": [
    "#string islower&isupper\n",
    "x=\"kittu\"\n",
    "y=\"KITTU\"\n",
    "z=\"KittU\"\n",
    "print(x.islower())\n",
    "print(y.isupper())\n",
    "print(z.islower())"
   ]
  },
  {
   "cell_type": "code",
   "execution_count": 31,
   "id": "d7e95649",
   "metadata": {},
   "outputs": [
    {
     "name": "stdout",
     "output_type": "stream",
     "text": [
      "True\n",
      "False\n"
     ]
    }
   ],
   "source": [
    "#string isdigit\n",
    "x=\"12345678910\"\n",
    "y=\"jhghy56768jkgh\"\n",
    "print(x.isdigit())\n",
    "print(y.isdigit())"
   ]
  },
  {
   "cell_type": "code",
   "execution_count": 33,
   "id": "a0e54e3e",
   "metadata": {},
   "outputs": [
    {
     "name": "stdout",
     "output_type": "stream",
     "text": [
      "False\n",
      "False\n",
      "True\n"
     ]
    }
   ],
   "source": [
    "#string isspace\n",
    "s=\"  hello\"\n",
    "g=\"bye\"\n",
    "f=\" \"\n",
    "print(s.isspace())\n",
    "print(g.isspace())\n",
    "print(f.isspace())"
   ]
  },
  {
   "cell_type": "code",
   "execution_count": 36,
   "id": "75968ded",
   "metadata": {},
   "outputs": [
    {
     "name": "stdout",
     "output_type": "stream",
     "text": [
      "KITTU\n",
      "kittu\n",
      "KITTU\n"
     ]
    }
   ],
   "source": [
    "#string upper&lower\n",
    "x=\"kittu\"\n",
    "y=\"KITTU\"\n",
    "z=\"KiTtU\"\n",
    "print(x.upper())\n",
    "print(y.lower())\n",
    "print(z.upper())"
   ]
  },
  {
   "cell_type": "code",
   "execution_count": 38,
   "id": "f25718ad",
   "metadata": {},
   "outputs": [
    {
     "name": "stdout",
     "output_type": "stream",
     "text": [
      "('do what makes ', 'your', ' soul happy')\n"
     ]
    }
   ],
   "source": [
    "#string Partition\n",
    "x=\"do what makes your soul happy\"\n",
    "print(x.partition(\"your\"))"
   ]
  },
  {
   "cell_type": "code",
   "execution_count": 59,
   "id": "6b1e5c15",
   "metadata": {},
   "outputs": [
    {
     "data": {
      "text/plain": [
       "'always love yourself'"
      ]
     },
     "execution_count": 59,
     "metadata": {},
     "output_type": "execute_result"
    }
   ],
   "source": [
    "#string join\n",
    "x=(\"always\",\"love\",\"yourself\")\n",
    "y=' '.join(x)\n",
    "y"
   ]
  },
  {
   "cell_type": "code",
   "execution_count": 17,
   "id": "33774aba",
   "metadata": {},
   "outputs": [
    {
     "name": "stdout",
     "output_type": "stream",
     "text": [
      "ymeomeu\n",
      "myoue\n"
     ]
    }
   ],
   "source": [
    "g=\"me\"\n",
    "h=\"you\"\n",
    "print(g.join(h))\n",
    "print(h.join(g))"
   ]
  },
  {
   "cell_type": "code",
   "execution_count": 65,
   "id": "cf73d241",
   "metadata": {},
   "outputs": [
    {
     "name": "stdout",
     "output_type": "stream",
     "text": [
      " do it\n",
      "i can do it\n"
     ]
    }
   ],
   "source": [
    "#string replace\n",
    "s=\"don't do it\"\n",
    "g=\"i can't do it\"\n",
    "print(s.replace(\"don't\", \"\"))\n",
    "print(g.replace(\"can't\", \"can\"))"
   ]
  },
  {
   "cell_type": "code",
   "execution_count": 68,
   "id": "967306fc",
   "metadata": {},
   "outputs": [
    {
     "name": "stdout",
     "output_type": "stream",
     "text": [
      "['love', 'the', 'life', 'you', 'live']\n"
     ]
    }
   ],
   "source": [
    "#string split\n",
    "h=\"love the life you live\"\n",
    "print(h.split())"
   ]
  },
  {
   "cell_type": "code",
   "execution_count": 69,
   "id": "6d3f95ea",
   "metadata": {},
   "outputs": [
    {
     "name": "stdout",
     "output_type": "stream",
     "text": [
      "hASEENA\n",
      "keerthi\n",
      "nEErAJa\n"
     ]
    }
   ],
   "source": [
    "#string swapcase\n",
    "x=\"Haseena\"\n",
    "y=\"KEERTHI\"\n",
    "z=\"NeeRajA\"\n",
    "print(x.swapcase())\n",
    "print(y.swapcase())\n",
    "print(z.swapcase())"
   ]
  },
  {
   "cell_type": "code",
   "execution_count": 22,
   "id": "98faab44",
   "metadata": {},
   "outputs": [
    {
     "name": "stdout",
     "output_type": "stream",
     "text": [
      "False\n",
      "False\n",
      "True\n"
     ]
    }
   ],
   "source": [
    "#string istitle\n",
    "x=\"CELINE\"\n",
    "y=\"prada\"\n",
    "z=\"Dior\"\n",
    "print(x.istitle())\n",
    "print(y.istitle())\n",
    "print(z.istitle())"
   ]
  },
  {
   "cell_type": "code",
   "execution_count": 25,
   "id": "99bebe82",
   "metadata": {},
   "outputs": [
    {
     "name": "stdout",
     "output_type": "stream",
     "text": [
      "<class 'set'>\n",
      "<class 'set'>\n"
     ]
    }
   ],
   "source": [
    "#Set Operations\n",
    "#creation\n",
    "set1={1,2,3,4}\n",
    "set2={5,6,7,8}\n",
    "print(type(set1))\n",
    "print(type(set2))"
   ]
  },
  {
   "cell_type": "code",
   "execution_count": 26,
   "id": "dc1657ab",
   "metadata": {},
   "outputs": [
    {
     "name": "stdout",
     "output_type": "stream",
     "text": [
      "{1, 2, 3, 4, 5, 6, 7, 8}\n"
     ]
    }
   ],
   "source": [
    "#union\n",
    "print(set1.union(set2))"
   ]
  },
  {
   "cell_type": "code",
   "execution_count": 20,
   "id": "4a224f8e",
   "metadata": {},
   "outputs": [
    {
     "name": "stdout",
     "output_type": "stream",
     "text": [
      "{5}\n"
     ]
    }
   ],
   "source": [
    "#intersection\n",
    "print(set1.intersection(set2))"
   ]
  },
  {
   "cell_type": "code",
   "execution_count": 28,
   "id": "7f80cc3d",
   "metadata": {},
   "outputs": [
    {
     "name": "stdout",
     "output_type": "stream",
     "text": [
      "None\n",
      "{1, 2, 3, 4}\n"
     ]
    }
   ],
   "source": [
    "#difference_update\n",
    "print(set1.difference_update(set2))\n",
    "print(set1)"
   ]
  },
  {
   "cell_type": "code",
   "execution_count": 7,
   "id": "0473b6d3",
   "metadata": {},
   "outputs": [
    {
     "name": "stdout",
     "output_type": "stream",
     "text": [
      "{1, 2, 3, 5, 7, 8, 9, 10}\n"
     ]
    }
   ],
   "source": [
    "#update\n",
    "set1.update((8,9,10))\n",
    "print(set1)"
   ]
  },
  {
   "cell_type": "code",
   "execution_count": 17,
   "id": "59d39f5f",
   "metadata": {},
   "outputs": [
    {
     "name": "stdout",
     "output_type": "stream",
     "text": [
      "{1, 2}\n",
      "{4, 5}\n",
      "{1, 2, 3}\n",
      "{3, 4, 5}\n"
     ]
    }
   ],
   "source": [
    "#difference\n",
    "set1={1,2,3}\n",
    "set2={3,4,5}\n",
    "print(set1.difference(set2))\n",
    "print(set2.difference(set1))\n",
    "print(set1)\n",
    "print(set2)"
   ]
  },
  {
   "cell_type": "code",
   "execution_count": 18,
   "id": "df4a160b",
   "metadata": {},
   "outputs": [
    {
     "data": {
      "text/plain": [
       "{1, 2, 3, 5}"
      ]
     },
     "execution_count": 18,
     "metadata": {},
     "output_type": "execute_result"
    }
   ],
   "source": [
    "#add\n",
    "set1.add(5)\n",
    "set1"
   ]
  },
  {
   "cell_type": "code",
   "execution_count": 19,
   "id": "6a90564c",
   "metadata": {},
   "outputs": [
    {
     "data": {
      "text/plain": [
       "{1, 2, 5}"
      ]
     },
     "execution_count": 19,
     "metadata": {},
     "output_type": "execute_result"
    }
   ],
   "source": [
    "#remove\n",
    "set1.discard(3)\n",
    "set1"
   ]
  },
  {
   "cell_type": "code",
   "execution_count": 48,
   "id": "4c500bae",
   "metadata": {},
   "outputs": [
    {
     "name": "stdout",
     "output_type": "stream",
     "text": [
      "<class 'dict'>\n"
     ]
    }
   ],
   "source": [
    "#Dictionaries\n",
    "#empty dictionary\n",
    "d={}\n",
    "print(type(d))"
   ]
  },
  {
   "cell_type": "code",
   "execution_count": 21,
   "id": "f2e64af9",
   "metadata": {},
   "outputs": [
    {
     "data": {
      "text/plain": [
       "{'Name': 'Haseena', 'Gender': 'Female', 'Age': 18}"
      ]
     },
     "execution_count": 21,
     "metadata": {},
     "output_type": "execute_result"
    }
   ],
   "source": [
    "#creating dictionary\n",
    "d={\"Name\":\"Haseena\", \n",
    "   \"Gender\":\"Female\", \n",
    "   \"Age\":18}\n",
    "d"
   ]
  },
  {
   "cell_type": "code",
   "execution_count": 4,
   "id": "5102975c",
   "metadata": {},
   "outputs": [
    {
     "data": {
      "text/plain": [
       "3"
      ]
     },
     "execution_count": 4,
     "metadata": {},
     "output_type": "execute_result"
    }
   ],
   "source": [
    "len(d)"
   ]
  },
  {
   "cell_type": "code",
   "execution_count": 5,
   "id": "b345886f",
   "metadata": {},
   "outputs": [
    {
     "data": {
      "text/plain": [
       "dict_keys(['Name', 'Gender', 'Age'])"
      ]
     },
     "execution_count": 5,
     "metadata": {},
     "output_type": "execute_result"
    }
   ],
   "source": [
    "d.keys()"
   ]
  },
  {
   "cell_type": "code",
   "execution_count": 9,
   "id": "e4713a25",
   "metadata": {},
   "outputs": [
    {
     "data": {
      "text/plain": [
       "dict_values(['Haseena', 'Female', 18])"
      ]
     },
     "execution_count": 9,
     "metadata": {},
     "output_type": "execute_result"
    }
   ],
   "source": [
    "d={\"Name\":\"Haseena\", \"Gender\":\"Female\", \"Age\":18}\n",
    "d.values()"
   ]
  },
  {
   "cell_type": "code",
   "execution_count": 10,
   "id": "d3405e94",
   "metadata": {},
   "outputs": [
    {
     "data": {
      "text/plain": [
       "dict_items([('Name', 'Haseena'), ('Gender', 'Female'), ('Age', 18)])"
      ]
     },
     "execution_count": 10,
     "metadata": {},
     "output_type": "execute_result"
    }
   ],
   "source": [
    "d.items()"
   ]
  },
  {
   "cell_type": "code",
   "execution_count": 15,
   "id": "a80cbeda",
   "metadata": {},
   "outputs": [
    {
     "data": {
      "text/plain": [
       "'Haseena'"
      ]
     },
     "execution_count": 15,
     "metadata": {},
     "output_type": "execute_result"
    }
   ],
   "source": [
    "d.get(\"Name\")"
   ]
  },
  {
   "cell_type": "code",
   "execution_count": 16,
   "id": "91394be5",
   "metadata": {},
   "outputs": [
    {
     "data": {
      "text/plain": [
       "18"
      ]
     },
     "execution_count": 16,
     "metadata": {},
     "output_type": "execute_result"
    }
   ],
   "source": [
    "d.pop(\"Age\")"
   ]
  },
  {
   "cell_type": "code",
   "execution_count": 18,
   "id": "3800e129",
   "metadata": {},
   "outputs": [
    {
     "data": {
      "text/plain": [
       "('Gender', 'Female')"
      ]
     },
     "execution_count": 18,
     "metadata": {},
     "output_type": "execute_result"
    }
   ],
   "source": [
    "d.popitem()"
   ]
  },
  {
   "cell_type": "code",
   "execution_count": 21,
   "id": "b7e7477d",
   "metadata": {},
   "outputs": [
    {
     "data": {
      "text/plain": [
       "{'Name': 10, 'Rollno': 10}"
      ]
     },
     "execution_count": 21,
     "metadata": {},
     "output_type": "execute_result"
    }
   ],
   "source": [
    "keys=[\"Name\",\"Rollno\"]\n",
    "d=d.fromkeys(keys,10)\n",
    "d"
   ]
  },
  {
   "cell_type": "code",
   "execution_count": 24,
   "id": "fcdb6519",
   "metadata": {},
   "outputs": [
    {
     "data": {
      "text/plain": [
       "{'Name': 10, 'Rollno': 10}"
      ]
     },
     "execution_count": 24,
     "metadata": {},
     "output_type": "execute_result"
    }
   ],
   "source": [
    "d1=d.copy()\n",
    "d1"
   ]
  },
  {
   "cell_type": "code",
   "execution_count": 34,
   "id": "c1347e0e",
   "metadata": {},
   "outputs": [
    {
     "name": "stdout",
     "output_type": "stream",
     "text": [
      "b is big\n"
     ]
    }
   ],
   "source": [
    "#Control Statements\n",
    "#largest number among three numbers\n",
    "#if(method-1)\n",
    "a=10\n",
    "b=50\n",
    "c=30\n",
    "if((a>b) and (a>c)):\n",
    "    print(\"a is big\")\n",
    "if((b>a)and(b>c)):\n",
    "    print(\"b is big\")\n",
    "if((c>a)and(c>b)):\n",
    "    print(\"c is big\")"
   ]
  },
  {
   "cell_type": "code",
   "execution_count": 35,
   "id": "b56efeb3",
   "metadata": {},
   "outputs": [
    {
     "name": "stdout",
     "output_type": "stream",
     "text": [
      "50\n"
     ]
    }
   ],
   "source": [
    "#if(method-2)\n",
    "max=a\n",
    "if(b>max):\n",
    "    max=b\n",
    "if(c>max):\n",
    "    max=c\n",
    "print(max)"
   ]
  },
  {
   "cell_type": "code",
   "execution_count": 43,
   "id": "4e8a6ac0",
   "metadata": {},
   "outputs": [
    {
     "name": "stdout",
     "output_type": "stream",
     "text": [
      "c is big\n"
     ]
    }
   ],
   "source": [
    "#elif\n",
    "a=10\n",
    "b=5\n",
    "c=30\n",
    "if((a>b)and(a>c)):\n",
    "    print(\"a is big\")\n",
    "elif(b>c):\n",
    "    print(\"b is big\")\n",
    "else:\n",
    "    print(\"c is big\")"
   ]
  },
  {
   "cell_type": "code",
   "execution_count": 44,
   "id": "2ebf3786",
   "metadata": {},
   "outputs": [
    {
     "name": "stdout",
     "output_type": "stream",
     "text": [
      "c is big\n"
     ]
    }
   ],
   "source": [
    "#Nested if\n",
    "if(a>b):\n",
    "    if(a>c):\n",
    "        print(\"a is big\")\n",
    "    else:\n",
    "        print(\"c is big\")"
   ]
  },
  {
   "cell_type": "code",
   "execution_count": 47,
   "id": "c5e6b118",
   "metadata": {},
   "outputs": [
    {
     "name": "stdout",
     "output_type": "stream",
     "text": [
      "a is equal to zero\n"
     ]
    }
   ],
   "source": [
    "#finding given number is +ve or -ve or zero\n",
    "a=0\n",
    "if(a>0):\n",
    "    print(\"a is positive\")\n",
    "if(a<0):\n",
    "    print(\"a is negative\")\n",
    "if(a==0):\n",
    "    print(\"a is equal to zero\")"
   ]
  },
  {
   "cell_type": "code",
   "execution_count": 49,
   "id": "8b561900",
   "metadata": {},
   "outputs": [
    {
     "name": "stdout",
     "output_type": "stream",
     "text": [
      "positive number\n"
     ]
    }
   ],
   "source": [
    "a=20\n",
    "if(a>0):\n",
    "    print(\"positive number\")\n",
    "elif(a<0):\n",
    "    print(\"negative number\")\n",
    "else:\n",
    "    print(\"zero\")"
   ]
  },
  {
   "cell_type": "code",
   "execution_count": 55,
   "id": "1af243ea",
   "metadata": {},
   "outputs": [
    {
     "name": "stdout",
     "output_type": "stream",
     "text": [
      "1\n",
      "2\n",
      "3\n",
      "4\n",
      "5\n",
      "6\n",
      "7\n",
      "8\n",
      "9\n",
      "10\n"
     ]
    }
   ],
   "source": [
    "#display 1 to 10 and 10 to 1 numbers by using forloop and dowhile loop\n",
    "#forloop\n",
    "for i in range(1,11,1):\n",
    "    print(i)"
   ]
  },
  {
   "cell_type": "code",
   "execution_count": 54,
   "id": "3a5d1633",
   "metadata": {},
   "outputs": [
    {
     "name": "stdout",
     "output_type": "stream",
     "text": [
      "10\n",
      "9\n",
      "8\n",
      "7\n",
      "6\n",
      "5\n",
      "4\n",
      "3\n",
      "2\n",
      "1\n"
     ]
    }
   ],
   "source": [
    "for i in range(10,0,-1):\n",
    "    print(i)"
   ]
  },
  {
   "cell_type": "code",
   "execution_count": 56,
   "id": "8c06bb4d",
   "metadata": {},
   "outputs": [
    {
     "name": "stdout",
     "output_type": "stream",
     "text": [
      "1\n",
      "2\n",
      "3\n",
      "4\n",
      "5\n",
      "6\n",
      "7\n",
      "8\n",
      "9\n",
      "10\n"
     ]
    }
   ],
   "source": [
    "#while loop\n",
    "i=1\n",
    "while(i<=10):\n",
    "    print(i)\n",
    "    i=i+1"
   ]
  },
  {
   "cell_type": "code",
   "execution_count": 59,
   "id": "3be72d0b",
   "metadata": {},
   "outputs": [
    {
     "name": "stdout",
     "output_type": "stream",
     "text": [
      "1\n",
      "2\n",
      "3\n",
      "4\n",
      "5\n",
      "6\n",
      "7\n",
      "8\n",
      "9\n",
      "10\n"
     ]
    }
   ],
   "source": [
    "i=1\n",
    "while(i<=10):\n",
    "    print(i)\n",
    "    i=i+1"
   ]
  },
  {
   "cell_type": "code",
   "execution_count": 60,
   "id": "33408f9e",
   "metadata": {},
   "outputs": [
    {
     "name": "stdout",
     "output_type": "stream",
     "text": [
      "2\n",
      "4\n",
      "6\n",
      "8\n",
      "10\n",
      "12\n",
      "14\n",
      "16\n",
      "18\n",
      "20\n",
      "22\n",
      "24\n",
      "26\n",
      "28\n",
      "30\n",
      "32\n",
      "34\n",
      "36\n",
      "38\n",
      "40\n",
      "42\n",
      "44\n",
      "46\n",
      "48\n",
      "50\n",
      "52\n",
      "54\n",
      "56\n",
      "58\n",
      "60\n",
      "62\n",
      "64\n",
      "66\n",
      "68\n",
      "70\n",
      "72\n",
      "74\n",
      "76\n",
      "78\n",
      "80\n",
      "82\n",
      "84\n",
      "86\n",
      "88\n",
      "90\n",
      "92\n",
      "94\n",
      "96\n",
      "98\n",
      "100\n"
     ]
    }
   ],
   "source": [
    "#print even number b/w 1 to 100\n",
    "for i in range(2,101,2):\n",
    "    print(i)"
   ]
  },
  {
   "cell_type": "code",
   "execution_count": 61,
   "id": "80ed58d4",
   "metadata": {},
   "outputs": [
    {
     "name": "stdout",
     "output_type": "stream",
     "text": [
      "2\n",
      "4\n",
      "6\n",
      "8\n",
      "10\n"
     ]
    }
   ],
   "source": [
    "for i in range(2,11,2):\n",
    "    print(i)"
   ]
  },
  {
   "cell_type": "code",
   "execution_count": 63,
   "id": "12648469",
   "metadata": {},
   "outputs": [
    {
     "name": "stdout",
     "output_type": "stream",
     "text": [
      "enter the number:3\n",
      "1\n",
      "2\n",
      "3\n"
     ]
    }
   ],
   "source": [
    "#write a program to find of n numbers\n",
    "i=1\n",
    "sum=0\n",
    "n=int(input(\"enter the number:\"))\n",
    "while(i<=n):\n",
    "    sum=sum+1\n",
    "    i=i+1\n",
    "    print(sum)"
   ]
  },
  {
   "cell_type": "code",
   "execution_count": 1,
   "id": "db488392",
   "metadata": {},
   "outputs": [
    {
     "name": "stdout",
     "output_type": "stream",
     "text": [
      "1\n",
      "3\n",
      "5\n",
      "7\n",
      "9\n"
     ]
    }
   ],
   "source": [
    "#print odd numbers\n",
    "for i in range(1,11,2):\n",
    "    print(i)"
   ]
  },
  {
   "cell_type": "code",
   "execution_count": 3,
   "id": "2e66ec07",
   "metadata": {},
   "outputs": [
    {
     "name": "stdout",
     "output_type": "stream",
     "text": [
      "0\n",
      "2\n",
      "4\n",
      "6\n",
      "8\n",
      "10\n"
     ]
    }
   ],
   "source": [
    "#even numbers\n",
    "for i in range(0,11,2):\n",
    "    print(i)"
   ]
  },
  {
   "cell_type": "code",
   "execution_count": 7,
   "id": "1e35a255",
   "metadata": {},
   "outputs": [
    {
     "name": "stdout",
     "output_type": "stream",
     "text": [
      "1\n",
      "5\n",
      "14\n",
      "30\n",
      "55\n"
     ]
    }
   ],
   "source": [
    "#sum of squares of natural number\n",
    "sum=0\n",
    "for i in range(1,6):\n",
    "    sum=sum+i*i\n",
    "    print(sum)"
   ]
  },
  {
   "cell_type": "code",
   "execution_count": 9,
   "id": "f672ab6a",
   "metadata": {},
   "outputs": [
    {
     "name": "stdout",
     "output_type": "stream",
     "text": [
      "1\n",
      "2\n",
      "3\n",
      "4\n",
      "5\n",
      "6\n",
      "7\n",
      "8\n",
      "9\n",
      "10\n"
     ]
    }
   ],
   "source": [
    "#While loop\n",
    "#print 1 to n numbers\n",
    "i=1\n",
    "while(i<=10):\n",
    "    print(i)\n",
    "    i=i+1"
   ]
  },
  {
   "cell_type": "code",
   "execution_count": 10,
   "id": "78920e43",
   "metadata": {},
   "outputs": [
    {
     "name": "stdout",
     "output_type": "stream",
     "text": [
      "10\n",
      "9\n",
      "8\n",
      "7\n",
      "6\n",
      "5\n",
      "4\n",
      "3\n",
      "2\n",
      "1\n",
      "0\n"
     ]
    }
   ],
   "source": [
    "#print n to 1 numbers\n",
    "i=10\n",
    "while(i>=0):\n",
    "    print(i)\n",
    "    i=i-1"
   ]
  },
  {
   "cell_type": "code",
   "execution_count": 11,
   "id": "afceda1d",
   "metadata": {},
   "outputs": [
    {
     "name": "stdout",
     "output_type": "stream",
     "text": [
      "1\n",
      "3\n",
      "5\n",
      "7\n",
      "9\n"
     ]
    }
   ],
   "source": [
    "#print odd numbers\n",
    "i=1\n",
    "while(i<=10):\n",
    "    print(i)\n",
    "    i=i+2"
   ]
  },
  {
   "cell_type": "code",
   "execution_count": 13,
   "id": "bee92ad5",
   "metadata": {},
   "outputs": [
    {
     "name": "stdout",
     "output_type": "stream",
     "text": [
      "0\n",
      "2\n",
      "4\n",
      "6\n",
      "8\n",
      "10\n"
     ]
    }
   ],
   "source": [
    "#print even numbers\n",
    "i=0\n",
    "while(i<=10):\n",
    "    print(i)\n",
    "    i=i+2"
   ]
  },
  {
   "cell_type": "code",
   "execution_count": 14,
   "id": "a9898d72",
   "metadata": {},
   "outputs": [
    {
     "name": "stdout",
     "output_type": "stream",
     "text": [
      "1\n",
      "3\n",
      "6\n",
      "10\n"
     ]
    }
   ],
   "source": [
    "#sum of n natural numbers\n",
    "sum=0\n",
    "i=1\n",
    "while(i<5):\n",
    "    sum=sum+i\n",
    "    i=i+1\n",
    "    print(sum)"
   ]
  },
  {
   "cell_type": "code",
   "execution_count": 15,
   "id": "4f224e62",
   "metadata": {},
   "outputs": [
    {
     "name": "stdout",
     "output_type": "stream",
     "text": [
      "1\n",
      "5\n",
      "14\n",
      "30\n",
      "55\n"
     ]
    }
   ],
   "source": [
    "#sum of squares of natural numbers\n",
    "sum=0\n",
    "i=1\n",
    "while(i<6):\n",
    "    sum=sum+i*i\n",
    "    i=i+1\n",
    "    print(sum)"
   ]
  },
  {
   "cell_type": "code",
   "execution_count": 17,
   "id": "a122b284",
   "metadata": {},
   "outputs": [
    {
     "name": "stdout",
     "output_type": "stream",
     "text": [
      "Hello World\n"
     ]
    }
   ],
   "source": [
    "#FUNCTIONS\n",
    "#display text\n",
    "def display():\n",
    "    print(\"Hello World\")\n",
    "display()"
   ]
  },
  {
   "cell_type": "code",
   "execution_count": 46,
   "id": "e3df397f",
   "metadata": {},
   "outputs": [
    {
     "name": "stdout",
     "output_type": "stream",
     "text": [
      "120\n"
     ]
    }
   ],
   "source": [
    "#find factorial of given number\n",
    "def factorial(n):\n",
    "    fact=1\n",
    "    for i in range(1,n+1,1):\n",
    "        fact=fact*i\n",
    "    print(fact)\n",
    "factorial(5)"
   ]
  },
  {
   "cell_type": "code",
   "execution_count": 49,
   "id": "32efd6d6",
   "metadata": {},
   "outputs": [
    {
     "name": "stdout",
     "output_type": "stream",
     "text": [
      "120\n"
     ]
    }
   ],
   "source": [
    "#Recursion\n",
    "def fact(n):\n",
    "    if n==0:\n",
    "        return 1\n",
    "    else:\n",
    "        return n*fact(n-1)\n",
    "print(fact(5))"
   ]
  },
  {
   "cell_type": "code",
   "execution_count": 53,
   "id": "2d1ee1a3",
   "metadata": {},
   "outputs": [
    {
     "name": "stdout",
     "output_type": "stream",
     "text": [
      "8\n"
     ]
    }
   ],
   "source": [
    "#power\n",
    "def power(x,n):\n",
    "    if (n==0):\n",
    "        return 1\n",
    "    else:\n",
    "        return x*power(x,n-1)\n",
    "print(power(2,3))"
   ]
  },
  {
   "cell_type": "code",
   "execution_count": 1,
   "id": "0aa890f6",
   "metadata": {},
   "outputs": [
    {
     "ename": "SyntaxError",
     "evalue": "invalid syntax (3358566762.py, line 7)",
     "output_type": "error",
     "traceback": [
      "\u001b[1;36m  Input \u001b[1;32mIn [1]\u001b[1;36m\u001b[0m\n\u001b[1;33m    if gcd, (num,1)==1:\u001b[0m\n\u001b[1;37m          ^\u001b[0m\n\u001b[1;31mSyntaxError\u001b[0m\u001b[1;31m:\u001b[0m invalid syntax\n"
     ]
    }
   ],
   "source": [
    "#coprime numbers of specific number\n",
    "from fractions import gcd\n",
    "num=int(input(\"number1:\"))\n",
    "lower=int(input(\"lower limit:\"))\n",
    "upper=int(input(\"upper limit:\"))\n",
    "for i in range(lower,upper+1):\n",
    "    if gcd, (num,1)==1:\n",
    "        print(i)"
   ]
  },
  {
   "cell_type": "code",
   "execution_count": 2,
   "id": "c873f9ff",
   "metadata": {},
   "outputs": [
    {
     "name": "stdout",
     "output_type": "stream",
     "text": [
      "file created\n",
      "end of the file\n"
     ]
    }
   ],
   "source": [
    "#file Handling\n",
    "#creating file\n",
    "file=open(\"f1.txt\",\"w\")\n",
    "print(\"file created\")\n",
    "file.close()\n",
    "print(\"end of the file\")"
   ]
  },
  {
   "cell_type": "code",
   "execution_count": 10,
   "id": "794efbc3",
   "metadata": {},
   "outputs": [
    {
     "name": "stdout",
     "output_type": "stream",
     "text": [
      "This is amzing\n",
      "living in spain\n"
     ]
    }
   ],
   "source": [
    "#reading file\n",
    "file=open(\"f1.txt\",\"r\")\n",
    "print(file.read())"
   ]
  },
  {
   "cell_type": "code",
   "execution_count": 12,
   "id": "b0c39131",
   "metadata": {},
   "outputs": [],
   "source": [
    "#writing file\n",
    "file=open(\"f1.txt\",\"w\")\n",
    "file.write(\"This is amzing\")\n",
    "file.write(\"\\nliving in spain\")\n",
    "file.close()"
   ]
  },
  {
   "cell_type": "code",
   "execution_count": 14,
   "id": "6399fc94",
   "metadata": {},
   "outputs": [
    {
     "name": "stdout",
     "output_type": "stream",
     "text": [
      "text append in f1 file\n"
     ]
    }
   ],
   "source": [
    "#append file\n",
    "file=open(\"f1.txt\",\"a\")\n",
    "file.write(\"\\nmy name is haseena\")\n",
    "print(\"text append in f1 file\")\n",
    "file.close()"
   ]
  },
  {
   "cell_type": "code",
   "execution_count": 15,
   "id": "5ee956df",
   "metadata": {},
   "outputs": [
    {
     "name": "stdout",
     "output_type": "stream",
     "text": [
      "This is amzing\n",
      "living in spain\n",
      "my name is haseena\n"
     ]
    }
   ],
   "source": [
    "file=open(\"f1.txt\",\"r\")\n",
    "print(file.read())"
   ]
  },
  {
   "cell_type": "code",
   "execution_count": null,
   "id": "8621c32f",
   "metadata": {},
   "outputs": [],
   "source": []
  }
 ],
 "metadata": {
  "kernelspec": {
   "display_name": "Python 3 (ipykernel)",
   "language": "python",
   "name": "python3"
  },
  "language_info": {
   "codemirror_mode": {
    "name": "ipython",
    "version": 3
   },
   "file_extension": ".py",
   "mimetype": "text/x-python",
   "name": "python",
   "nbconvert_exporter": "python",
   "pygments_lexer": "ipython3",
   "version": "3.9.12"
  }
 },
 "nbformat": 4,
 "nbformat_minor": 5
}
