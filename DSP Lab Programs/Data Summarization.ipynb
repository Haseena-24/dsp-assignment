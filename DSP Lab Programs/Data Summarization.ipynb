{
 "cells": [
  {
   "cell_type": "code",
   "execution_count": 58,
   "id": "e77b63fa",
   "metadata": {},
   "outputs": [
    {
     "name": "stdout",
     "output_type": "stream",
     "text": [
      "[5.4, 5.6, 16.6, 14.4, 26.2, 24.8, 35.4, 35.4, 46.6, 44.4]\n"
     ]
    }
   ],
   "source": [
    "import numpy as np\n",
    "p1=np.array([2,4,3,8,10])\n",
    "p2=np.array([1,6,5,7,9])\n",
    "p3=np.array([12,17,16,18,20])\n",
    "p4=np.array([11,13,15,14,19])\n",
    "p5=np.array([22,25,26,28,30])\n",
    "p6=np.array([21,23,24,27,29])\n",
    "p7=np.array([32,34,33,38,40])\n",
    "p8=np.array([31,35,35,37,39])\n",
    "p9=np.array([42,44,49,48,50])\n",
    "p10=np.array([41,43,45,47,46])\n",
    "a=([p1.mean(),p2.mean(),p3.mean(),p4.mean(),p5.mean(),p6.mean(),p7.mean(),p8.mean(),p9.mean(),p10.mean()])\n",
    "print(a)"
   ]
  },
  {
   "cell_type": "code",
   "execution_count": 59,
   "id": "7b4bc0de",
   "metadata": {},
   "outputs": [
    {
     "data": {
      "image/png": "[encoded data removed]",
      "text/plain": [
       "<Figure size 432x288 with 1 Axes>"
      ]
     },
     "metadata": {
      "needs_background": "light"
     },
     "output_type": "display_data"
    }
   ],
   "source": [
    "import matplotlib.pyplot as plt\n",
    "Population=['p1','p2','p3','p4','p5','p6','p7','p8','p9','p10']\n",
    "Mean=[5.4, 5.6, 16.6, 14.4, 26.2, 24.8, 35.4, 35.4, 46.6, 44.4]\n",
    "plt.bar(Population,Mean)\n",
    "plt.title(\"Mean of the Population\")\n",
    "plt.xlabel(\"Population\")\n",
    "plt.ylabel(\"Mean\")\n",
    "plt.show()"
   ]
  },
  {
   "cell_type": "code",
   "execution_count": 76,
   "id": "8970afc6",
   "metadata": {},
   "outputs": [
    {
     "data": {
      "image/png": "[encoded data removed]",
      "text/plain": [
       "<Figure size 432x288 with 1 Axes>"
      ]
     },
     "metadata": {
      "needs_background": "light"
     },
     "output_type": "display_data"
    },
    {
     "data": {
      "text/plain": [
       "[(5.359, 9.52], (5.359, 9.52], (13.64, 17.76], (13.64, 17.76], (26.0, 30.12], (21.88, 26.0], (34.24, 38.36], (34.24, 38.36], (42.48, 46.6], (42.48, 46.6]]\n",
       "Categories (10, interval[float64, right]): [(5.359, 9.52] < (9.52, 13.64] < (13.64, 17.76] < (17.76, 21.88] ... (30.12, 34.24] < (34.24, 38.36] < (38.36, 42.48] < (42.48, 46.6]]"
      ]
     },
     "execution_count": 76,
     "metadata": {},
     "output_type": "execute_result"
    }
   ],
   "source": [
    "Mean=[5.4, 5.6, 16.6, 14.4, 26.2, 24.8, 35.4, 35.4, 46.6, 44.4]\n",
    "plt.hist(Mean,bins=10)\n",
    "plt.xlabel(\"Population\")\n",
    "plt.ylabel(\"Mean\")\n",
    "plt.show()\n",
    "pd.cut(Mean,bins=10)"
   ]
  },
  {
   "cell_type": "code",
   "execution_count": 61,
   "id": "1b0f88d0",
   "metadata": {},
   "outputs": [
    {
     "data": {
      "image/png": "[encoded data removed]",
      "text/plain": [
       "<Figure size 432x288 with 1 Axes>"
      ]
     },
     "metadata": {},
     "output_type": "display_data"
    }
   ],
   "source": [
    "y=[5.4, 5.6, 16.6, 14.4, 26.2, 24.8, 35.4, 35.4, 46.6, 44.4]\n",
    "plt.pie(y,labels=['p1','p2','p3','p4','p5','p6','p7','p8','p9','p10'])\n",
    "plt.show()"
   ]
  },
  {
   "cell_type": "code",
   "execution_count": 47,
   "id": "976b6c98",
   "metadata": {},
   "outputs": [
    {
     "name": "stdout",
     "output_type": "stream",
     "text": [
      "[5.4, 5.6, 16.6, 14.4, 26.2, 24.8, 35.4, 35.4, 46.6, 44.4]\n",
      "count     5.000000\n",
      "mean      5.400000\n",
      "std       3.435113\n",
      "min       2.000000\n",
      "25%       3.000000\n",
      "50%       4.000000\n",
      "75%       8.000000\n",
      "max      10.000000\n",
      "dtype: float64\n"
     ]
    }
   ],
   "source": [
    "import pandas as pd\n",
    "p1=pd.Series([2,4,3,8,10])\n",
    "p2=pd.Series([1,6,5,7,9])\n",
    "p3=pd.Series([12,17,16,18,20])\n",
    "p4=pd.Series([11,13,15,14,19])\n",
    "p5=pd.Series([22,25,26,28,30])\n",
    "p6=pd.Series([21,23,24,27,29])\n",
    "p7=pd.Series([32,34,33,38,40])\n",
    "p8=pd.Series([31,35,35,37,39])\n",
    "p9=pd.Series([42,44,49,48,50])\n",
    "p10=pd.Series([41,43,45,47,46])\n",
    "a=([p1.mean(),p2.mean(),p3.mean(),p4.mean(),p5.mean(),p6.mean(),p7.mean(),p8.mean(),p9.mean(),p10.mean()])\n",
    "print(a)\n",
    "print(p1.describe())"
   ]
  },
  {
   "cell_type": "code",
   "execution_count": 48,
   "id": "2ce3645f",
   "metadata": {},
   "outputs": [
    {
     "data": {
      "text/plain": [
       "count    5.000000\n",
       "mean     5.600000\n",
       "std      2.966479\n",
       "min      1.000000\n",
       "25%      5.000000\n",
       "50%      6.000000\n",
       "75%      7.000000\n",
       "max      9.000000\n",
       "dtype: float64"
      ]
     },
     "execution_count": 48,
     "metadata": {},
     "output_type": "execute_result"
    }
   ],
   "source": [
    "p2.describe()"
   ]
  },
  {
   "cell_type": "code",
   "execution_count": 50,
   "id": "9889f840",
   "metadata": {},
   "outputs": [
    {
     "data": {
      "text/plain": [
       "count     5.000000\n",
       "mean     16.600000\n",
       "std       2.966479\n",
       "min      12.000000\n",
       "25%      16.000000\n",
       "50%      17.000000\n",
       "75%      18.000000\n",
       "max      20.000000\n",
       "dtype: float64"
      ]
     },
     "execution_count": 50,
     "metadata": {},
     "output_type": "execute_result"
    }
   ],
   "source": [
    "p3.describe()"
   ]
  },
  {
   "cell_type": "code",
   "execution_count": 51,
   "id": "41a53ce2",
   "metadata": {},
   "outputs": [
    {
     "data": {
      "text/plain": [
       "count     5.000000\n",
       "mean     14.400000\n",
       "std       2.966479\n",
       "min      11.000000\n",
       "25%      13.000000\n",
       "50%      14.000000\n",
       "75%      15.000000\n",
       "max      19.000000\n",
       "dtype: float64"
      ]
     },
     "execution_count": 51,
     "metadata": {},
     "output_type": "execute_result"
    }
   ],
   "source": [
    "p4.describe()"
   ]
  },
  {
   "cell_type": "code",
   "execution_count": 52,
   "id": "fbb1c1cc",
   "metadata": {},
   "outputs": [
    {
     "data": {
      "text/plain": [
       "count     5.00000\n",
       "mean     26.20000\n",
       "std       3.03315\n",
       "min      22.00000\n",
       "25%      25.00000\n",
       "50%      26.00000\n",
       "75%      28.00000\n",
       "max      30.00000\n",
       "dtype: float64"
      ]
     },
     "execution_count": 52,
     "metadata": {},
     "output_type": "execute_result"
    }
   ],
   "source": [
    "p5.describe()"
   ]
  },
  {
   "cell_type": "code",
   "execution_count": 53,
   "id": "ef7e583e",
   "metadata": {},
   "outputs": [
    {
     "data": {
      "text/plain": [
       "count     5.000000\n",
       "mean     24.800000\n",
       "std       3.193744\n",
       "min      21.000000\n",
       "25%      23.000000\n",
       "50%      24.000000\n",
       "75%      27.000000\n",
       "max      29.000000\n",
       "dtype: float64"
      ]
     },
     "execution_count": 53,
     "metadata": {},
     "output_type": "execute_result"
    }
   ],
   "source": [
    "p6.describe()"
   ]
  },
  {
   "cell_type": "code",
   "execution_count": 54,
   "id": "b222f7b9",
   "metadata": {},
   "outputs": [
    {
     "data": {
      "text/plain": [
       "count     5.000000\n",
       "mean     35.400000\n",
       "std       3.435113\n",
       "min      32.000000\n",
       "25%      33.000000\n",
       "50%      34.000000\n",
       "75%      38.000000\n",
       "max      40.000000\n",
       "dtype: float64"
      ]
     },
     "execution_count": 54,
     "metadata": {},
     "output_type": "execute_result"
    }
   ],
   "source": [
    "p7.describe()"
   ]
  },
  {
   "cell_type": "code",
   "execution_count": 55,
   "id": "520e385a",
   "metadata": {},
   "outputs": [
    {
     "data": {
      "text/plain": [
       "count     5.000000\n",
       "mean     35.400000\n",
       "std       2.966479\n",
       "min      31.000000\n",
       "25%      35.000000\n",
       "50%      35.000000\n",
       "75%      37.000000\n",
       "max      39.000000\n",
       "dtype: float64"
      ]
     },
     "execution_count": 55,
     "metadata": {},
     "output_type": "execute_result"
    }
   ],
   "source": [
    "p8.describe()"
   ]
  },
  {
   "cell_type": "code",
   "execution_count": 56,
   "id": "2591f203",
   "metadata": {},
   "outputs": [
    {
     "data": {
      "text/plain": [
       "count     5.000000\n",
       "mean     46.600000\n",
       "std       3.435113\n",
       "min      42.000000\n",
       "25%      44.000000\n",
       "50%      48.000000\n",
       "75%      49.000000\n",
       "max      50.000000\n",
       "dtype: float64"
      ]
     },
     "execution_count": 56,
     "metadata": {},
     "output_type": "execute_result"
    }
   ],
   "source": [
    "p9.describe()"
   ]
  },
  {
   "cell_type": "code",
   "execution_count": 57,
   "id": "982978a5",
   "metadata": {},
   "outputs": [
    {
     "data": {
      "text/plain": [
       "count     5.000000\n",
       "mean     44.400000\n",
       "std       2.408319\n",
       "min      41.000000\n",
       "25%      43.000000\n",
       "50%      45.000000\n",
       "75%      46.000000\n",
       "max      47.000000\n",
       "dtype: float64"
      ]
     },
     "execution_count": 57,
     "metadata": {},
     "output_type": "execute_result"
    }
   ],
   "source": [
    "p10.describe()"
   ]
  },
  {
   "cell_type": "code",
   "execution_count": 67,
   "id": "4170836d",
   "metadata": {},
   "outputs": [
    {
     "data": {
      "text/plain": [
       "[4.0, 6.0, 17.0, 14.0, 26.0, 24.0, 34.0, 35.0, 48.0, 45.0]"
      ]
     },
     "execution_count": 67,
     "metadata": {},
     "output_type": "execute_result"
    }
   ],
   "source": [
    "median=[p1.median(),p2.median(),p3.median(),p4.median(),p5.median(),p6.median(),p7.median(),p8.median(),p9.median(),p10.median()]\n",
    "median"
   ]
  },
  {
   "cell_type": "code",
   "execution_count": 69,
   "id": "a156b307",
   "metadata": {},
   "outputs": [
    {
     "data": {
      "text/plain": [
       "[3.4351128074635335,\n",
       " 2.9664793948382653,\n",
       " 2.9664793948382653,\n",
       " 2.9664793948382653,\n",
       " 3.03315017762062,\n",
       " 3.1937438845342623,\n",
       " 3.4351128074635335,\n",
       " 2.9664793948382653,\n",
       " 3.4351128074635335,\n",
       " 2.4083189157584592]"
      ]
     },
     "execution_count": 69,
     "metadata": {},
     "output_type": "execute_result"
    }
   ],
   "source": [
    "standarddeviation=[p1.std(),p2.std(),p3.std(),p4.std(),p5.std(),p6.std(),p7.std(),p8.std(),p9.std(),p10.std()]\n",
    "standarddeviation"
   ]
  },
  {
   "cell_type": "code",
   "execution_count": 75,
   "id": "f3453db5",
   "metadata": {
    "scrolled": true
   },
   "outputs": [
    {
     "data": {
      "image/png": "[encoded data removed]",
      "text/plain": [
       "<Figure size 432x288 with 1 Axes>"
      ]
     },
     "metadata": {},
     "output_type": "display_data"
    }
   ],
   "source": [
    "y=[5.4, 5.6, 16.6, 14.4, 26.2, 24.8, 35.4, 35.4, 46.6, 44.4]\n",
    "plt.pie(y,labels=['p1','p2','p3','p4','p5','p6','p7','p8','p9','p10'])\n",
    "plt.legend()\n",
    "plt.legend(title=\"Mean\")\n",
    "plt.show()"
   ]
  },
  {
   "cell_type": "code",
   "execution_count": null,
   "id": "f6cffac5",
   "metadata": {},
   "outputs": [],
   "source": []
  }
 ],
 "metadata": {
  "kernelspec": {
   "display_name": "Python 3 (ipykernel)",
   "language": "python",
   "name": "python3"
  },
  "language_info": {
   "codemirror_mode": {
    "name": "ipython",
    "version": 3
   },
   "file_extension": ".py",
   "mimetype": "text/x-python",
   "name": "python",
   "nbconvert_exporter": "python",
   "pygments_lexer": "ipython3",
   "version": "3.9.12"
  }
 },
 "nbformat": 4,
 "nbformat_minor": 5
}
